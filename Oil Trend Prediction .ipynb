{
 "cells": [
  {
   "cell_type": "markdown",
   "metadata": {},
   "source": [
    "# Project : Prediction of the Crude Oil production trend\n"
   ]
  },
  {
   "cell_type": "markdown",
   "metadata": {},
   "source": [
    "## l. Import the libraries \n",
    "\n",
    "load all useful python modules :"
   ]
  },
  {
   "cell_type": "code",
   "execution_count": 1,
   "metadata": {
    "collapsed": false
   },
   "outputs": [
    {
     "name": "stderr",
     "output_type": "stream",
     "text": [
      "/Users/benjelloun/anaconda/lib/python3.6/site-packages/sklearn/cross_validation.py:44: DeprecationWarning: This module was deprecated in version 0.18 in favor of the model_selection module into which all the refactored classes and functions are moved. Also note that the interface of the new CV iterators are different from that of this module. This module will be removed in 0.20.\n",
      "  \"This module will be removed in 0.20.\", DeprecationWarning)\n"
     ]
    }
   ],
   "source": [
    "# Basic import numpy, pandas and matplotlib :\n",
    "import numpy as np\n",
    "import matplotlib.pyplot as plt\n",
    "import pandas as pd\n",
    "import numpy.random as npr\n",
    "import matplotlib.cm as cm\n",
    "\n",
    "# dimentionality reduction imports :\n",
    "from sklearn.decomposition import PCA\n",
    "from sklearn.manifold import TSNE\n",
    "from sklearn.preprocessing import StandardScaler\n",
    "from sklearn.model_selection import train_test_split\n",
    "from sklearn.model_selection import KFold\n",
    "from sklearn.model_selection import cross_val_score\n",
    "from sklearn.model_selection import GridSearchCV\n",
    "\n",
    "# useful build-in python functions\n",
    "from sklearn import metrics\n",
    "from sklearn.pipeline import Pipeline\n",
    "\n",
    "\n",
    "#Import classification algorithms :\n",
    "from sklearn.neighbors import KNeighborsClassifier\n",
    "from sklearn import svm\n",
    "from sklearn.ensemble import RandomForestClassifier\n",
    "from sklearn.ensemble import ExtraTreesClassifier\n",
    "from sklearn.ensemble import GradientBoostingClassifier\n",
    "from sklearn.linear_model import LogisticRegression\n",
    "from xgboost import XGBClassifier"
   ]
  },
  {
   "cell_type": "markdown",
   "metadata": {},
   "source": [
    "## ll. Get the dataset\n",
    "\n",
    "We load the dataset from the given files (link to the computer)"
   ]
  },
  {
   "cell_type": "code",
   "execution_count": 2,
   "metadata": {
    "collapsed": true
   },
   "outputs": [],
   "source": [
    "#_______ Links to the data \n",
    "\n",
    "# link to Train inputs :\n",
    "link_Train_input  = '/Users/benjelloun/Desktop/Challenge/Train_Input.csv'\n",
    "# link to Train output :\n",
    "link_Train_output = '/Users/benjelloun/Desktop/Challenge/Training_Output.csv'\n",
    "# link to Test inputs :\n",
    "link_Test_input   = '/Users/benjelloun/Desktop/Challenge/Test.csv'\n",
    "\n",
    "#_______ Open the files \n",
    "#Train_Outputs :\n",
    "Train_Outputs = pd.read_csv(link_Train_output, sep = \";\")\n",
    "#Train_Inputs :\n",
    "Train_Input = pd.read_csv(link_Train_input, sep = \";\")\n",
    "#Test Input :\n",
    "Test_Input = pd.read_csv(link_Test_input, sep = \";\")"
   ]
  },
  {
   "cell_type": "markdown",
   "metadata": {},
   "source": [
    "## III. Preprocessing"
   ]
  },
  {
   "cell_type": "markdown",
   "metadata": {},
   "source": [
    "## Hands on data :"
   ]
  },
  {
   "cell_type": "code",
   "execution_count": 3,
   "metadata": {
    "collapsed": false
   },
   "outputs": [
    {
     "name": "stdout",
     "output_type": "stream",
     "text": [
      "Input Train data shape is : (10159, 123)\n",
      "Output Train data shape is : (10159, 2)\n",
      "the types present in the dataset : [dtype('int64') dtype('float64')]\n"
     ]
    }
   ],
   "source": [
    "#Get train input data shape\n",
    "print('Input Train data shape is :', Train_Input.shape)\n",
    "#Get train output data shape\n",
    "print('Output Train data shape is :', Train_Outputs.shape)\n",
    "#Get the types present in the data\n",
    "print('the types present in the dataset :', pd.unique( Train_Input.iloc[:,1:].dtypes ) )\n"
   ]
  },
  {
   "cell_type": "code",
   "execution_count": 4,
   "metadata": {
    "collapsed": false,
    "scrolled": true
   },
   "outputs": [
    {
     "name": "stdout",
     "output_type": "stream",
     "text": [
      "ID                                ID00001\n",
      "month                                   5\n",
      "country                                52\n",
      "1_diffClosing stocks(kmt)               0\n",
      "1_diffExports(kmt)                    237\n",
      "1_diffImports(kmt)                      0\n",
      "1_diffRefinery intake(kmt)             33\n",
      "1_diffWTI                           -5.62\n",
      "1_diffSumClosing stocks(kmt)      10426.2\n",
      "1_diffSumExports(kmt)             12135.1\n",
      "1_diffSumImports(kmt)             20527.8\n",
      "1_diffSumProduction(kmt)          32234.6\n",
      "1_diffSumRefinery intake(kmt)     25998.8\n",
      "2_diffClosing stocks(kmt)               0\n",
      "2_diffExports(kmt)                   -159\n",
      "2_diffImports(kmt)                      0\n",
      "2_diffRefinery intake(kmt)            -17\n",
      "2_diffWTI                           -5.05\n",
      "2_diffSumClosing stocks(kmt)        -3510\n",
      "2_diffSumExports(kmt)                1124\n",
      "2_diffSumImports(kmt)            -6034.04\n",
      "2_diffSumProduction(kmt)          -2105.3\n",
      "2_diffSumRefinery intake(kmt)    -7860.37\n",
      "3_diffClosing stocks(kmt)               0\n",
      "3_diffExports(kmt)                     66\n",
      "3_diffImports(kmt)                      0\n",
      "3_diffRefinery intake(kmt)             12\n",
      "3_diffWTI                            3.47\n",
      "3_diffSumClosing stocks(kmt)     -1389.79\n",
      "3_diffSumExports(kmt)             8409.35\n",
      "                                   ...   \n",
      "10_diffClosing stocks(kmt)              0\n",
      "10_diffExports(kmt)                   317\n",
      "10_diffImports(kmt)                     0\n",
      "10_diffRefinery intake(kmt)            20\n",
      "10_diffWTI                           2.18\n",
      "10_diffSumClosing stocks(kmt)     1148.76\n",
      "10_diffSumExports(kmt)            9992.29\n",
      "10_diffSumImports(kmt)            11136.5\n",
      "10_diffSumProduction(kmt)           12455\n",
      "10_diffSumRefinery intake(kmt)    9752.46\n",
      "11_diffClosing stocks(kmt)              0\n",
      "11_diffExports(kmt)                     0\n",
      "11_diffImports(kmt)                     0\n",
      "11_diffRefinery intake(kmt)           -39\n",
      "11_diffWTI                           0.65\n",
      "11_diffSumClosing stocks(kmt)     11955.6\n",
      "11_diffSumExports(kmt)            2183.35\n",
      "11_diffSumImports(kmt)            2914.96\n",
      "11_diffSumProduction(kmt)        -258.389\n",
      "11_diffSumRefinery intake(kmt)    4412.76\n",
      "12_diffClosing stocks(kmt)              0\n",
      "12_diffExports(kmt)                     0\n",
      "12_diffImports(kmt)                     0\n",
      "12_diffRefinery intake(kmt)            14\n",
      "12_diffWTI                           2.92\n",
      "12_diffSumClosing stocks(kmt)     673.857\n",
      "12_diffSumExports(kmt)           -13007.2\n",
      "12_diffSumImports(kmt)           -5932.55\n",
      "12_diffSumProduction(kmt)        -17130.8\n",
      "12_diffSumRefinery intake(kmt)   -13151.5\n",
      "Name: 0, dtype: object\n"
     ]
    }
   ],
   "source": [
    "# Get a first idea of what looks the data like \n",
    "print( Train_Input.iloc[0] )"
   ]
  },
  {
   "cell_type": "code",
   "execution_count": 5,
   "metadata": {
    "collapsed": false
   },
   "outputs": [
    {
     "data": {
      "image/png": "[encoded data removed]",
      "text/plain": [
       "<matplotlib.figure.Figure at 0x11632beb8>"
      ]
     },
     "metadata": {},
     "output_type": "display_data"
    }
   ],
   "source": [
    "## number of data per month :\n",
    "\n",
    "#get the statistic\n",
    "data_by_month = []\n",
    "for i in range(1,13):\n",
    "    data_by_month.append([i, np.sum(Train_Input.iloc[:, 1]==i)] )\n",
    "data_by_month = np.array(data_by_month)\n",
    "\n",
    "#bar plot :\n",
    "fig1 = plt.figure()\n",
    "plt.bar(data_by_month[:,0], data_by_month[:,1], align='center')\n",
    "plt.ylabel('Number of data')\n",
    "plt.xlabel('months')\n",
    "plt.title('Number of data per month')\n",
    "plt.show()"
   ]
  },
  {
   "cell_type": "code",
   "execution_count": 6,
   "metadata": {
    "collapsed": false
   },
   "outputs": [
    {
     "name": "stdout",
     "output_type": "stream",
     "text": [
      "number of countries is  76\n"
     ]
    },
    {
     "data": {
      "image/png": "[encoded data removed]",
      "text/plain": [
       "<matplotlib.figure.Figure at 0x115a9b940>"
      ]
     },
     "metadata": {},
     "output_type": "display_data"
    }
   ],
   "source": [
    "## number of data per country\n",
    "#number of countries :\n",
    "number_of_countries = len(np.unique(Train_Input.iloc[:, 2]))\n",
    "print('number of countries is ', number_of_countries)\n",
    "\n",
    "#Get the statistics\n",
    "data_per_country = []\n",
    "for i in range(1, number_of_countries):\n",
    "    data_per_country.append([i, np.sum(Train_Input.iloc[:, 2]==i) ])\n",
    "data_per_country = np.array(data_per_country)\n",
    "\n",
    "# bar plot :\n",
    "fig2 = plt.figure()\n",
    "plt.bar(data_per_country[:,0], data_per_country[:,1], align='center')\n",
    "plt.ylabel('Number of data')\n",
    "plt.xlabel('country number')\n",
    "plt.title('Number of data per country')\n",
    "plt.show()"
   ]
  },
  {
   "cell_type": "code",
   "execution_count": 7,
   "metadata": {
    "collapsed": false
   },
   "outputs": [
    {
     "data": {
      "text/plain": [
       "['ID',\n",
       " 'month',\n",
       " 'country',\n",
       " '1_diffClosing stocks(kmt)',\n",
       " '1_diffExports(kmt)',\n",
       " '1_diffImports(kmt)',\n",
       " '1_diffRefinery intake(kmt)',\n",
       " '1_diffWTI',\n",
       " '1_diffSumClosing stocks(kmt)',\n",
       " '1_diffSumExports(kmt)',\n",
       " '1_diffSumImports(kmt)',\n",
       " '1_diffSumProduction(kmt)',\n",
       " '1_diffSumRefinery intake(kmt)',\n",
       " '2_diffClosing stocks(kmt)',\n",
       " '2_diffExports(kmt)',\n",
       " '2_diffImports(kmt)',\n",
       " '2_diffRefinery intake(kmt)',\n",
       " '2_diffWTI',\n",
       " '2_diffSumClosing stocks(kmt)',\n",
       " '2_diffSumExports(kmt)',\n",
       " '2_diffSumImports(kmt)',\n",
       " '2_diffSumProduction(kmt)',\n",
       " '2_diffSumRefinery intake(kmt)',\n",
       " '3_diffClosing stocks(kmt)',\n",
       " '3_diffExports(kmt)',\n",
       " '3_diffImports(kmt)',\n",
       " '3_diffRefinery intake(kmt)',\n",
       " '3_diffWTI',\n",
       " '3_diffSumClosing stocks(kmt)',\n",
       " '3_diffSumExports(kmt)',\n",
       " '3_diffSumImports(kmt)',\n",
       " '3_diffSumProduction(kmt)',\n",
       " '3_diffSumRefinery intake(kmt)',\n",
       " '4_diffClosing stocks(kmt)',\n",
       " '4_diffExports(kmt)',\n",
       " '4_diffImports(kmt)',\n",
       " '4_diffRefinery intake(kmt)',\n",
       " '4_diffWTI',\n",
       " '4_diffSumClosing stocks(kmt)',\n",
       " '4_diffSumExports(kmt)',\n",
       " '4_diffSumImports(kmt)',\n",
       " '4_diffSumProduction(kmt)',\n",
       " '4_diffSumRefinery intake(kmt)',\n",
       " '5_diffClosing stocks(kmt)',\n",
       " '5_diffExports(kmt)',\n",
       " '5_diffImports(kmt)',\n",
       " '5_diffRefinery intake(kmt)',\n",
       " '5_diffWTI',\n",
       " '5_diffSumClosing stocks(kmt)',\n",
       " '5_diffSumExports(kmt)',\n",
       " '5_diffSumImports(kmt)',\n",
       " '5_diffSumProduction(kmt)',\n",
       " '5_diffSumRefinery intake(kmt)',\n",
       " '6_diffClosing stocks(kmt)',\n",
       " '6_diffExports(kmt)',\n",
       " '6_diffImports(kmt)',\n",
       " '6_diffRefinery intake(kmt)',\n",
       " '6_diffWTI',\n",
       " '6_diffSumClosing stocks(kmt)',\n",
       " '6_diffSumExports(kmt)',\n",
       " '6_diffSumImports(kmt)',\n",
       " '6_diffSumProduction(kmt)',\n",
       " '6_diffSumRefinery intake(kmt)',\n",
       " '7_diffClosing stocks(kmt)',\n",
       " '7_diffExports(kmt)',\n",
       " '7_diffImports(kmt)',\n",
       " '7_diffRefinery intake(kmt)',\n",
       " '7_diffWTI',\n",
       " '7_diffSumClosing stocks(kmt)',\n",
       " '7_diffSumExports(kmt)',\n",
       " '7_diffSumImports(kmt)',\n",
       " '7_diffSumProduction(kmt)',\n",
       " '7_diffSumRefinery intake(kmt)',\n",
       " '8_diffClosing stocks(kmt)',\n",
       " '8_diffExports(kmt)',\n",
       " '8_diffImports(kmt)',\n",
       " '8_diffRefinery intake(kmt)',\n",
       " '8_diffWTI',\n",
       " '8_diffSumClosing stocks(kmt)',\n",
       " '8_diffSumExports(kmt)',\n",
       " '8_diffSumImports(kmt)',\n",
       " '8_diffSumProduction(kmt)',\n",
       " '8_diffSumRefinery intake(kmt)',\n",
       " '9_diffClosing stocks(kmt)',\n",
       " '9_diffExports(kmt)',\n",
       " '9_diffImports(kmt)',\n",
       " '9_diffRefinery intake(kmt)',\n",
       " '9_diffWTI',\n",
       " '9_diffSumClosing stocks(kmt)',\n",
       " '9_diffSumExports(kmt)',\n",
       " '9_diffSumImports(kmt)',\n",
       " '9_diffSumProduction(kmt)',\n",
       " '9_diffSumRefinery intake(kmt)',\n",
       " '10_diffClosing stocks(kmt)',\n",
       " '10_diffExports(kmt)',\n",
       " '10_diffImports(kmt)',\n",
       " '10_diffRefinery intake(kmt)',\n",
       " '10_diffWTI',\n",
       " '10_diffSumClosing stocks(kmt)',\n",
       " '10_diffSumExports(kmt)',\n",
       " '10_diffSumImports(kmt)',\n",
       " '10_diffSumProduction(kmt)',\n",
       " '10_diffSumRefinery intake(kmt)',\n",
       " '11_diffClosing stocks(kmt)',\n",
       " '11_diffExports(kmt)',\n",
       " '11_diffImports(kmt)',\n",
       " '11_diffRefinery intake(kmt)',\n",
       " '11_diffWTI',\n",
       " '11_diffSumClosing stocks(kmt)',\n",
       " '11_diffSumExports(kmt)',\n",
       " '11_diffSumImports(kmt)',\n",
       " '11_diffSumProduction(kmt)',\n",
       " '11_diffSumRefinery intake(kmt)',\n",
       " '12_diffClosing stocks(kmt)',\n",
       " '12_diffExports(kmt)',\n",
       " '12_diffImports(kmt)',\n",
       " '12_diffRefinery intake(kmt)',\n",
       " '12_diffWTI',\n",
       " '12_diffSumClosing stocks(kmt)',\n",
       " '12_diffSumExports(kmt)',\n",
       " '12_diffSumImports(kmt)',\n",
       " '12_diffSumProduction(kmt)',\n",
       " '12_diffSumRefinery intake(kmt)']"
      ]
     },
     "execution_count": 7,
     "metadata": {},
     "output_type": "execute_result"
    }
   ],
   "source": [
    "#Get the list of features :\n",
    "list(Train_Input)"
   ]
  },
  {
   "cell_type": "markdown",
   "metadata": {},
   "source": [
    "## Statistics of the missing data :"
   ]
  },
  {
   "cell_type": "code",
   "execution_count": 8,
   "metadata": {
    "collapsed": false
   },
   "outputs": [
    {
     "data": {
      "text/plain": [
       "ID                                False\n",
       "month                             False\n",
       "country                           False\n",
       "1_diffClosing stocks(kmt)          True\n",
       "1_diffExports(kmt)                False\n",
       "1_diffImports(kmt)                 True\n",
       "1_diffRefinery intake(kmt)        False\n",
       "1_diffWTI                         False\n",
       "1_diffSumClosing stocks(kmt)      False\n",
       "1_diffSumExports(kmt)             False\n",
       "1_diffSumImports(kmt)             False\n",
       "1_diffSumProduction(kmt)          False\n",
       "1_diffSumRefinery intake(kmt)     False\n",
       "2_diffClosing stocks(kmt)          True\n",
       "2_diffExports(kmt)                False\n",
       "2_diffImports(kmt)                 True\n",
       "2_diffRefinery intake(kmt)        False\n",
       "2_diffWTI                         False\n",
       "2_diffSumClosing stocks(kmt)      False\n",
       "2_diffSumExports(kmt)             False\n",
       "2_diffSumImports(kmt)             False\n",
       "2_diffSumProduction(kmt)          False\n",
       "2_diffSumRefinery intake(kmt)     False\n",
       "3_diffClosing stocks(kmt)          True\n",
       "3_diffExports(kmt)                False\n",
       "3_diffImports(kmt)                 True\n",
       "3_diffRefinery intake(kmt)        False\n",
       "3_diffWTI                         False\n",
       "3_diffSumClosing stocks(kmt)      False\n",
       "3_diffSumExports(kmt)             False\n",
       "                                  ...  \n",
       "10_diffClosing stocks(kmt)         True\n",
       "10_diffExports(kmt)               False\n",
       "10_diffImports(kmt)                True\n",
       "10_diffRefinery intake(kmt)       False\n",
       "10_diffWTI                        False\n",
       "10_diffSumClosing stocks(kmt)     False\n",
       "10_diffSumExports(kmt)            False\n",
       "10_diffSumImports(kmt)            False\n",
       "10_diffSumProduction(kmt)         False\n",
       "10_diffSumRefinery intake(kmt)    False\n",
       "11_diffClosing stocks(kmt)         True\n",
       "11_diffExports(kmt)               False\n",
       "11_diffImports(kmt)                True\n",
       "11_diffRefinery intake(kmt)       False\n",
       "11_diffWTI                        False\n",
       "11_diffSumClosing stocks(kmt)     False\n",
       "11_diffSumExports(kmt)            False\n",
       "11_diffSumImports(kmt)            False\n",
       "11_diffSumProduction(kmt)         False\n",
       "11_diffSumRefinery intake(kmt)    False\n",
       "12_diffClosing stocks(kmt)         True\n",
       "12_diffExports(kmt)               False\n",
       "12_diffImports(kmt)                True\n",
       "12_diffRefinery intake(kmt)       False\n",
       "12_diffWTI                        False\n",
       "12_diffSumClosing stocks(kmt)     False\n",
       "12_diffSumExports(kmt)            False\n",
       "12_diffSumImports(kmt)            False\n",
       "12_diffSumProduction(kmt)         False\n",
       "12_diffSumRefinery intake(kmt)    False\n",
       "dtype: bool"
      ]
     },
     "execution_count": 8,
     "metadata": {},
     "output_type": "execute_result"
    }
   ],
   "source": [
    "#Check is the dataset Train_Input contains NAN values :\n",
    "Train_Input.isnull().any()"
   ]
  },
  {
   "cell_type": "code",
   "execution_count": 9,
   "metadata": {
    "collapsed": false
   },
   "outputs": [
    {
     "data": {
      "text/plain": [
       "ID        False\n",
       "Target    False\n",
       "dtype: bool"
      ]
     },
     "execution_count": 9,
     "metadata": {},
     "output_type": "execute_result"
    }
   ],
   "source": [
    "#Check is the dataset Train_Outputs contains NAN values :\n",
    "Train_Outputs.isnull().any()"
   ]
  },
  {
   "cell_type": "code",
   "execution_count": 10,
   "metadata": {
    "collapsed": false
   },
   "outputs": [
    {
     "data": {
      "text/plain": [
       "array([False], dtype=bool)"
      ]
     },
     "execution_count": 10,
     "metadata": {},
     "output_type": "execute_result"
    }
   ],
   "source": [
    "#Check is the dataset Test_Inputs contains NAN values :\n",
    "np.unique(Test_Input.isnull().any())"
   ]
  },
  {
   "cell_type": "markdown",
   "metadata": {},
   "source": [
    "We have missing data in the training inputs, no missing data in the test set and training outputs !"
   ]
  },
  {
   "cell_type": "code",
   "execution_count": 11,
   "metadata": {
    "collapsed": false
   },
   "outputs": [
    {
     "name": "stdout",
     "output_type": "stream",
     "text": [
      "Number of cells in Train_Input with missing data is :  4497\n",
      "Number of rows in Train_Input with missing data is :  294\n"
     ]
    }
   ],
   "source": [
    "#Counting cells with missing data :\n",
    "print( 'Number of cells in Train_Input with missing data is : ', sum(Train_Input.isnull().values.ravel()) )\n",
    "\n",
    "#Counting rows that have missing values somewhere :\n",
    "print( 'Number of rows in Train_Input with missing data is : ', sum([True for idx,row in Train_Input.iterrows() if any(row.isnull())]) )"
   ]
  },
  {
   "cell_type": "code",
   "execution_count": 12,
   "metadata": {
    "collapsed": false
   },
   "outputs": [
    {
     "name": "stdout",
     "output_type": "stream",
     "text": [
      "The countries with missing data are : \n",
      "\n",
      "the country  33  has  288 missing values\n",
      "the country  41  has  825 missing values\n",
      "the country  42  has  1524 missing values\n",
      "the country  71  has  1860 missing values\n",
      "\n",
      "\n"
     ]
    },
    {
     "data": {
      "image/png": "[encoded data removed]",
      "text/plain": [
       "<matplotlib.figure.Figure at 0x1160a2e80>"
      ]
     },
     "metadata": {},
     "output_type": "display_data"
    }
   ],
   "source": [
    "## missing values per country\n",
    "missing_data_per_country = []\n",
    "for i in np.arange(1, len(np.unique(Train_Input.iloc[:, 2]))):\n",
    "    missing_data_per_country.append([i, sum( Train_Input[ Train_Input['country'] == i].isnull().values.ravel()) ])\n",
    "missing_data_per_country = np.array(missing_data_per_country)\n",
    "\n",
    "#_Print the countries with missing values :\n",
    "print('The countries with missing data are : \\n')\n",
    "for i in range(0, len(missing_data_per_country)):\n",
    "    if missing_data_per_country[i,1] != 0 :\n",
    "        print('the country ', missing_data_per_country[i,0], ' has ', missing_data_per_country[i,1], 'missing values')\n",
    "print('\\n')\n",
    "\n",
    "#_Diragram showing the number of missing values per country\n",
    "plt.bar(missing_data_per_country[:,0], missing_data_per_country[:,1], color=\"blue\")\n",
    "plt.ylabel('Number of missing values')\n",
    "plt.xlabel('country id')\n",
    "plt.title('Number of missing values per country')\n",
    "plt.show()"
   ]
  },
  {
   "cell_type": "code",
   "execution_count": 13,
   "metadata": {
    "collapsed": false,
    "scrolled": true
   },
   "outputs": [
    {
     "data": {
      "image/png": "[encoded data removed]",
      "text/plain": [
       "<matplotlib.figure.Figure at 0x11a9c12e8>"
      ]
     },
     "metadata": {},
     "output_type": "display_data"
    }
   ],
   "source": [
    "## Get the distribution of features with missing data for the selected countries\n",
    "\n",
    "countries_missing = [33, 41, 42, 71] #countries with mising data\n",
    "Missing_data_per_features ={} #dictionnary in order to get the statistics about missing data/feature\n",
    "Features_list = list(Train_Input) #list of features\n",
    "\n",
    "#Fill the dictionnary with the number of missing data per feature :\n",
    "for country in countries_missing : #loop over the features\n",
    "    \n",
    "    selected_country = Train_Input['country']==country #coundition to select data for the following country\n",
    "    Missing_data_per_features[country] = [[Feature, int(sum(Train_Input[selected_country][Feature].isnull().values.ravel()))] \\\n",
    "                                          for Feature in Features_list]\n",
    "    Missing_data_per_features[country] = np.array(Missing_data_per_features[country])\n",
    "\n",
    "\n",
    "#plot the number of missing data per feature for each country :\n",
    "x = range(len(Features_list))\n",
    "# row and column sharing\n",
    "f, ((ax1, ax2), (ax3, ax4)) = plt.subplots(2, 2, sharex='col', sharey='row', figsize=(15, 10))\n",
    "\n",
    "ax1.bar(x, list(map(int, Missing_data_per_features[33][:,1])), color=\"blue\", align='center')\n",
    "ax1.set_title('Number of missing values per feature for the country 33')\n",
    "ax1.set_xlabel('Features')\n",
    "ax1.set_ylabel('Number of missing data')\n",
    "\n",
    "ax2.bar(x, list(map(int, Missing_data_per_features[41][:,1])), color=\"blue\", align='center')\n",
    "ax2.set_title('Number of missing values per feature for the country 41')\n",
    "ax2.set_xlabel('Features')\n",
    "ax2.set_ylabel('Number of missing data')\n",
    "\n",
    "ax3.bar(x, list(map(int, Missing_data_per_features[42][:,1])), color=\"blue\", align='center')\n",
    "ax3.set_title('Number of missing values per feature for the country 42')\n",
    "ax3.set_xlabel('Features')\n",
    "ax3.set_ylabel('Number of missing data')\n",
    "\n",
    "ax4.bar(x, list(map(int, Missing_data_per_features[71][:,1])), color=\"blue\", align='center')\n",
    "ax4.set_title('Number of missing values per feature for the country 71')\n",
    "ax4.set_xlabel('Features')\n",
    "ax4.set_ylabel('Number of missing data')\n",
    "\n",
    "plt.show()"
   ]
  },
  {
   "cell_type": "markdown",
   "metadata": {},
   "source": [
    "## Replace the missing values :\n",
    "\n",
    "In order to replace the missing data we will follow the strategy :\n",
    "\n",
    "    1. If the data missing os highly correlated to the country : closing_stocks, exports/imports, refinery intake, WTI. we will replace using the mean of the this features in the same country for the selected month.\n",
    "    \n",
    "    2. If the data missing depends on all the countries i.e starting with sum we will fill using a mean of this feature over all the countries for the corresponding month.\n",
    "\n",
    "    "
   ]
  },
  {
   "cell_type": "code",
   "execution_count": 14,
   "metadata": {
    "collapsed": true
   },
   "outputs": [],
   "source": [
    "def Fill_Missing_values(Train_Input, country_list):\n",
    "    \n",
    "    for country in country_list :\n",
    "    \n",
    "        Country_data = Train_Input[Train_Input['country']==country]\n",
    "        indexes = list(Country_data.index) #row indexes of Country_data\n",
    "        #Get indexes of missing values :\n",
    "        missing_x, missing_y = np.where(pd.isnull(Country_data))\n",
    "        \n",
    "        for i in range(len(missing_x)):\n",
    "            x,y = missing_x[i], missing_y[i]\n",
    "            #if the feature depends only on the country :\n",
    "            if \"Sum\" not in list(Country_data)[y] :\n",
    "                # First we get the subset of elements with the same month of the missing data point:\n",
    "                same_month_condition = Country_data['month'] == Country_data.iloc[x,1] \n",
    "                same_month_data = Country_data[same_month_condition]   \n",
    "                # Fill in with the mean value (take care to not consider the missing values) :\n",
    "                Train_Input.at[indexes[x], list(Country_data)[y]] = np.mean([ same_month_data.iloc[:,y].dropna() ])\n",
    "            \n",
    "                #if the feature depends on all the countries i.e sum is in the column name :\n",
    "            if \"Sum\" in list(Country_data)[y] :    \n",
    "                # First get the subset of elements for the same month from all the dataset:\n",
    "                same_month_condition = Train_Input[Train_Input['month']] == Country_data.iloc[x,1]                          \n",
    "                same_month_data =  Train_Input[same_month_condition]\n",
    "                # Fill in with the mean value over all the dataset\n",
    "                Train_Input.at[indexes[x], list(Country_data)[y]] = np.mean([ same_month_data.iloc[:,y].dropna() ]) \n",
    "        \n",
    "        print('Fill_Missing_values performed for the country', country, ':) \\n')\n",
    "    return"
   ]
  },
  {
   "cell_type": "code",
   "execution_count": 15,
   "metadata": {
    "collapsed": false
   },
   "outputs": [
    {
     "name": "stdout",
     "output_type": "stream",
     "text": [
      "Fill_Missing_values performed for the country 33 :) \n",
      "\n",
      "Fill_Missing_values performed for the country 41 :) \n",
      "\n",
      "Fill_Missing_values performed for the country 42 :) \n",
      "\n",
      "Fill_Missing_values performed for the country 71 :) \n",
      "\n",
      "Security check : \n",
      "\n",
      "the number of missing data in  33  is : 0\n",
      "the number of missing data in  41  is : 0\n",
      "the number of missing data in  42  is : 0\n",
      "the number of missing data in  71  is : 0\n",
      "Total number of missing data in the dataset is :  0\n"
     ]
    }
   ],
   "source": [
    "# Fill the missing values in the dataset :\n",
    "country_list = [33, 41, 42, 71]\n",
    "Fill_Missing_values(Train_Input, country_list)\n",
    "# Secutiry check : see if the data has been replaced :\n",
    "print('Security check : \\n')\n",
    "for country in country_list :\n",
    "    print('the number of missing data in ', country, ' is :', sum( Train_Input[ Train_Input['country'] == country].isnull().values.ravel()) )\n",
    "    \n",
    "print('Total number of missing data in the dataset is : ', sum( Train_Input.isnull().values.ravel()))"
   ]
  },
  {
   "cell_type": "markdown",
   "metadata": {},
   "source": [
    "## lV. Visualization of the data \n",
    "\n",
    "We will visualize the data per country/month using two different algorithms :\n",
    "\n",
    "    1. PCA : a linear transformation that maximize the variance.\n",
    "\n",
    "    2. t-SNE : a non linear transformation that works well with high dimensional data, it preserves the distances between the data in the new space.\n",
    "\n",
    "Multiple dimentionnality reduction methods are available, for an exhaustif discussion please se [Colah's blog](http://colah.github.io/posts/2014-10-Visualizing-MNIST/).\n",
    "\n",
    "Note : the algorithm should ignore the country/id/month data !"
   ]
  },
  {
   "cell_type": "code",
   "execution_count": 16,
   "metadata": {
    "collapsed": true
   },
   "outputs": [],
   "source": [
    "'''\n",
    " ***Inputs :\n",
    "    - Train_Input : All the dataset\n",
    "    - show_by_months : bool (true or false) to determine if we want to see the distribution per month\n",
    "    - selected_months : list of months that we want to consider if select_per_month==True\n",
    "    - show_by_countries : bool (true or false) to determine if we want to see the distribution per country\n",
    "    - selected_countries : list of countries that we want to consider if select_per_countries==True\n",
    "    - figure_size : size of the figure = (5,5) by default\n",
    "    \n",
    "    *** Note : if show_per_month is always different than show_by_countries : \n",
    "'''\n",
    "\n",
    "def plot_pca_distribution_per_country(Train_Input, \n",
    "                                      show_by_months, selected_months,\n",
    "                                      show_by_countries, selected_countries,\n",
    "                                      figure_size=(10,10)):   \n",
    "    ##Safety check :\n",
    "    #Check if show_per_month is different than show_by_countries\n",
    "    if (show_by_months and show_by_countries)==True:\n",
    "        print('please select only one feature to display : months or country, not both')\n",
    "        return \n",
    "    # if no feature is selected\n",
    "    if (show_by_months or show_by_countries)==False:\n",
    "        print('please select one feature to display : months or country, not both')\n",
    "        return \n",
    "    \n",
    "    print('The selected Months are : ', selected_months)\n",
    "    print('The selected Countries are : ', selected_countries)\n",
    "    # get the data for the selected country\n",
    "    subset_selected = Train_Input['month'].isin(selected_months) &  Train_Input['country'].isin(selected_countries)\n",
    "    Data = Train_Input[subset_selected]\n",
    "       \n",
    "    #perform PCA on this data :\n",
    "    # Do not consider the features id, country and month\n",
    "    pca = PCA(n_components=2)\n",
    "    reduction = pca.fit_transform(Data.iloc[:,3:])\n",
    "\n",
    "    #Get the reduction with the panda dataframe :\n",
    "    Reduction_dataframe = Data.iloc[:,:3]\n",
    "    Reduction_dataframe['x_transformation'] = reduction[:,0]\n",
    "    Reduction_dataframe['y_transformation'] = reduction[:,1]\n",
    "\n",
    "    # plot in 2d space :\n",
    "    fig = plt.figure(figsize=figure_size)\n",
    "    ax = plt.subplot(111)\n",
    "\n",
    "    if show_by_countries :\n",
    "        for country in selected_countries:\n",
    "            cond = Reduction_dataframe['country'] == country\n",
    "            ax.plot(Reduction_dataframe[cond].iloc[:,3], Reduction_dataframe[cond].iloc[:,4], \\\n",
    "                     linestyle='none', marker='o', markersize=4, label='country %i'%country)\n",
    "        \n",
    "        # Shrink current axis's height by 10% on the bottom\n",
    "        box = ax.get_position()\n",
    "        ax.set_position([box.x0, box.y0 + box.height * 0.1,\n",
    "                         box.width, box.height * 0.9])\n",
    "\n",
    "        # Put a legend below current axis\n",
    "        ax.legend(loc='upper center', bbox_to_anchor=(0.5, -0.05),\n",
    "        fancybox=True, shadow=True, ncol=5)\n",
    "        plt.title('Distribution of data for the selected countries-months, separated by country using PCA')\n",
    "        plt.show()\n",
    "        return\n",
    "    \n",
    "    if show_by_months :\n",
    "        for month in selected_months:\n",
    "            cond = Reduction_dataframe['month'] == month\n",
    "            ax.plot(Reduction_dataframe[cond].iloc[:,3], Reduction_dataframe[cond].iloc[:,4], \\\n",
    "                     linestyle='none', marker='o', markersize=2, label='month %i'%month)\n",
    "        #'markersize=1,'   \n",
    "        # Shrink current axis's height by 10% on the bottom\n",
    "        box = ax.get_position()\n",
    "        ax.set_position([box.x0, box.y0 + box.height * 0.1,\n",
    "                         box.width, box.height * 0.9])\n",
    "        # Put a legend below current axis\n",
    "        ax.legend(loc='upper center', bbox_to_anchor=(0.5, -0.05),\n",
    "        fancybox=True, shadow=True, ncol=5)                 \n",
    "        plt.title('Distribution of data for the selected countries-months, separated by month using PCA')\n",
    "        plt.show()\n",
    "        return"
   ]
  },
  {
   "cell_type": "markdown",
   "metadata": {},
   "source": [
    "### Distribution of data by month "
   ]
  },
  {
   "cell_type": "code",
   "execution_count": 17,
   "metadata": {
    "collapsed": false
   },
   "outputs": [
    {
     "name": "stdout",
     "output_type": "stream",
     "text": [
      "The selected Months are :  [ 1  2  3  4  5  6  7  8  9 10 11 12]\n",
      "The selected Countries are :  [ 1  2  3  4  5  6  7  8  9 10 11 12 13 14 15 16 17 18 19 20 21 22 23 24 25\n",
      " 26 27 28 29 30 31 32 33 34 35 36 37 38 39 40 41 42 43 44 45 46 47 48 49 50\n",
      " 51 52 53 54 55 56 57 58 59 60 61 62 63 64 65 66 67 68 69 70 71 72 73 74 75]\n"
     ]
    },
    {
     "data": {
      "image/png": "[encoded data removed]",
      "text/plain": [
       "<matplotlib.figure.Figure at 0x115b35b70>"
      ]
     },
     "metadata": {},
     "output_type": "display_data"
    }
   ],
   "source": [
    "show_by_months = True\n",
    "selected_months = np.arange(1,13)\n",
    "show_by_countries = False\n",
    "selected_countries = np.arange(1,number_of_countries)\n",
    "plot_pca_distribution_per_country(Train_Input, \n",
    "                                      show_by_months, selected_months,\n",
    "                                      show_by_countries, selected_countries)"
   ]
  },
  {
   "cell_type": "markdown",
   "metadata": {},
   "source": [
    "### Distribution of data by country "
   ]
  },
  {
   "cell_type": "code",
   "execution_count": 18,
   "metadata": {
    "collapsed": false
   },
   "outputs": [
    {
     "name": "stdout",
     "output_type": "stream",
     "text": [
      "The selected Months are :  [ 1  2  3  4  5  6  7  8  9 10 11 12]\n",
      "The selected Countries are :  [1 2 3 4]\n"
     ]
    },
    {
     "data": {
      "image/png": "[encoded data removed]",
      "text/plain": [
       "<matplotlib.figure.Figure at 0x11a588860>"
      ]
     },
     "metadata": {},
     "output_type": "display_data"
    }
   ],
   "source": [
    "show_by_months = False\n",
    "selected_months = np.arange(1,13)\n",
    "show_by_countries = True\n",
    "selected_countries = np.arange(1,5)\n",
    "plot_pca_distribution_per_country(Train_Input, \n",
    "                                      show_by_months, selected_months,\n",
    "                                      show_by_countries, selected_countries)"
   ]
  },
  {
   "cell_type": "markdown",
   "metadata": {},
   "source": [
    "One can see that the separation between months is almost perfect using a PCA, we can see the different classes. When we try to do the same with countries we can see that it's very difficult to see any separation between the points. We explain this behavior by the fact that our data is highly dependent on the weather and then on the months. "
   ]
  },
  {
   "cell_type": "markdown",
   "metadata": {},
   "source": [
    "# V. Classification"
   ]
  },
  {
   "cell_type": "markdown",
   "metadata": {},
   "source": [
    "## Split the data :\n",
    "\n",
    "In order to evaluate properly our model, we need to split the dataset into (X_train, Y_train) and (X_validation, Y_validation).\n",
    "\n",
    "-> (X_train, Y_train) is used as a training dataset for our model.\n",
    "\n",
    "-> (X_validation, Y_validation) is used to evaluate the trained model."
   ]
  },
  {
   "cell_type": "code",
   "execution_count": 19,
   "metadata": {
    "collapsed": false
   },
   "outputs": [
    {
     "name": "stdout",
     "output_type": "stream",
     "text": [
      "X_train shape is  (8127, 122)\n",
      "Y_train shape is  (8127,)\n",
      "X_validation shape is  (2032, 122)\n",
      "Y_validation shape is  (2032,)\n"
     ]
    }
   ],
   "source": [
    "## Variables for our study :\n",
    "validation_size = 0.20\n",
    "seed = 7\n",
    "num_folds = 10\n",
    "\n",
    "## split the data :\n",
    "# Note : we need to remove the Id-cells\n",
    "X_train, X_validation, Y_train, Y_validation = train_test_split(Train_Input.iloc[:,1:], Train_Outputs.iloc[:,1], \\\n",
    "                                                                test_size=validation_size, random_state=seed)\n",
    "\n",
    "# Get an idea about the sizes :\n",
    "print('X_train shape is ', X_train.shape)\n",
    "print('Y_train shape is ', Y_train.shape)\n",
    "print('X_validation shape is ', X_validation.shape)\n",
    "print('Y_validation shape is ', Y_validation.shape)"
   ]
  },
  {
   "cell_type": "markdown",
   "metadata": {},
   "source": [
    "## Algorithms :\n",
    "\n",
    "We will evaluate the performance of different algorithms, and compare them in order to choose the best one."
   ]
  },
  {
   "cell_type": "code",
   "execution_count": 21,
   "metadata": {
    "collapsed": false
   },
   "outputs": [],
   "source": [
    "## List of classification agorithms to try first :\n",
    "pipelines = []\n",
    "\n",
    "# SVM algorithm with different kernels : rbf, linear, polynomial and sigmoid :\n",
    "pipelines.append(('ScaledSVM_rbf', Pipeline([('Scaler', StandardScaler()),('SVM_rbf', svm.SVC(kernel='rbf'))])))\n",
    "pipelines.append(('ScaledSVM_linear', Pipeline([('Scaler', StandardScaler()),('SVM_linear', svm.SVC(kernel='linear'))])))\n",
    "pipelines.append(('ScaledSVM_sigmoid', Pipeline([('Scaler', StandardScaler()),('SVM_sigmoid', svm.SVC(kernel='sigmoid'))])))\n",
    "# Random forest :\n",
    "pipelines.append(('ScaledRF', Pipeline([ ('Scaler', StandardScaler()),('RF', RandomForestClassifier()) ])))\n",
    "# ExtraTrees classifier :\n",
    "pipelines.append(('ScaledET', Pipeline([('Scaler', StandardScaler()),('ET', ExtraTreesClassifier())])))\n",
    "#   radient Boosting classifier :                                  \n",
    "pipelines.append(('ScaledGBM', Pipeline([('Scaler', StandardScaler()),('GBM', GradientBoostingClassifier())])))\n",
    "# K_NN algorithm :\n",
    "pipelines.append(('ScaledKNN', Pipeline([('Scaler', StandardScaler()),('KNN', KNeighborsClassifier(n_neighbors=100))])))\n",
    "# XGboost\n",
    "pipelines.append(('ScaledXGB', Pipeline([('Scaler', StandardScaler()),('XGB', XGBClassifier())])))\n",
    "\n"
   ]
  },
  {
   "cell_type": "markdown",
   "metadata": {},
   "source": [
    "In order to evaluate the algorithms we use cross-validation (k-fold) the number of folds is 10 :\n",
    "\n",
    "Note : we introduce the variable Compare_algorithms=False, if the user wants to see the results of all the algorithms please set his value to True."
   ]
  },
  {
   "cell_type": "code",
   "execution_count": 22,
   "metadata": {
    "collapsed": false
   },
   "outputs": [
    {
     "name": "stdout",
     "output_type": "stream",
     "text": [
      "CPU times: user 4 µs, sys: 1e+03 ns, total: 5 µs\n",
      "Wall time: 11 µs\n",
      "ScaledSVM_rbf: 0.703395 (0.013770)\n",
      "ScaledSVM_linear: 0.693446 (0.011666)\n",
      "ScaledSVM_sigmoid: 0.602173 (0.023997)\n",
      "ScaledRF: 0.732562 (0.013532)\n",
      "ScaledET: 0.709366 (0.012050)\n",
      "ScaledGBM: 0.781627 (0.014187)\n",
      "ScaledKNN: 0.706051 (0.017993)\n",
      "ScaledXGB: 0.784630 (0.015043)\n"
     ]
    }
   ],
   "source": [
    "Compare_algorithms = True\n",
    "\n",
    "if Compare_algorithms :\n",
    "    %%time\n",
    "    results = []\n",
    "    names = []\n",
    "    for name, model in pipelines:\n",
    "\n",
    "        kfold = KFold(n_splits=num_folds, random_state=seed)\n",
    "        cv_results = cross_val_score(model, X_train, Y_train, cv=kfold, scoring = 'roc_auc')\n",
    "        results.append(cv_results)\n",
    "        names.append(name)\n",
    "\n",
    "        print( \"%s: %f (%f)\" % (name, cv_results.mean(), cv_results.std()) )"
   ]
  },
  {
   "cell_type": "markdown",
   "metadata": {},
   "source": [
    "#### Campare the algorithms :"
   ]
  },
  {
   "cell_type": "code",
   "execution_count": 23,
   "metadata": {
    "collapsed": false
   },
   "outputs": [
    {
     "data": {
      "image/png": "[encoded data removed]",
      "text/plain": [
       "<matplotlib.figure.Figure at 0x11fbfd2b0>"
      ]
     },
     "metadata": {},
     "output_type": "display_data"
    }
   ],
   "source": [
    "if Compare_algorithms :\n",
    "    fig = plt.figure()\n",
    "    fig.suptitle('Scaled Algorithm Comparison')\n",
    "    ax = fig.add_subplot(111)\n",
    "    plt.boxplot(results)\n",
    "    ax.set_xticklabels(names)\n",
    "    fig.set_size_inches(15,7)\n",
    "    plt.show()"
   ]
  },
  {
   "cell_type": "markdown",
   "metadata": {},
   "source": [
    "### Improve the accuracy - Finetunning the parameters :\n",
    "\n",
    "\n",
    "Build a function using grid search in order to find the best parameters specified in 'params' for a given model 'my_model'."
   ]
  },
  {
   "cell_type": "code",
   "execution_count": 24,
   "metadata": {
    "collapsed": true
   },
   "outputs": [],
   "source": [
    "'''\n",
    "Inputs :\n",
    "    - my_model : the model to use\n",
    "    - params : the parameters to finetune\n",
    "    \n",
    "Outputs :\n",
    "    The performance of each parameters, and prints the best parameters to use.\n",
    "'''\n",
    "def tune_parameters(my_model, params, X_train, Y_train, seed, split_number=5, print_=True):\n",
    "    scaler = StandardScaler().fit(X_train)\n",
    "    rescaledX = scaler.transform(X_train)\n",
    "    kfold = KFold(n_splits=split_number, random_state=seed)\n",
    "    grid = GridSearchCV(estimator=my_model, param_grid=params, scoring='roc_auc', cv=kfold)\n",
    "    grid_result = grid.fit(rescaledX, Y_train)\n",
    "    print(\"Best: %f using %s\" % (grid_result.best_score_, grid_result.best_params_))\n",
    "    means = grid_result.cv_results_['mean_test_score']\n",
    "    stds = grid_result.cv_results_['std_test_score']\n",
    "    params = grid_result.cv_results_['params']\n",
    "    if print_ :\n",
    "        for mean, stdev, param in zip(means, stds, params):\n",
    "            print(\"%f (%f) with: %r\" % (mean, stdev, param))\n",
    "        \n",
    "    return grid_result.best_score_, grid_result.best_params_"
   ]
  },
  {
   "cell_type": "markdown",
   "metadata": {},
   "source": [
    "Finetuning all the parameters at once took us a long time on the local machine, this step needs strong CPUs on the machine.\n",
    "\n",
    "In our code we introduce the choice between finetuning all the parameters at once by letting Strong_CPU=True otherwise we will finetune each parameters in a single run of the function tune_parameters."
   ]
  },
  {
   "cell_type": "code",
   "execution_count": 25,
   "metadata": {
    "collapsed": false
   },
   "outputs": [],
   "source": [
    "'''\n",
    "Useful function for our greedy parameter search\n",
    "\n",
    "Goal : Transforms the values of a dictionary to a list-type\n",
    "'''\n",
    "def transform_values_into_list(Mydict):\n",
    "    \n",
    "    for key in Mydict :\n",
    "        if isinstance(Mydict[key], (list))==False  :            \n",
    "            Mydict[key] = [Mydict[key]]\n",
    "    return Mydict        "
   ]
  },
  {
   "cell_type": "code",
   "execution_count": 26,
   "metadata": {
    "collapsed": true
   },
   "outputs": [],
   "source": [
    "#Set Tune_param to True if you want to perform a gridsearch :\n",
    "Tune_param = False\n",
    "#Set Strong_CPU to true if you want to perform a grid search for all the parameters at once otherwise \n",
    "#it will performs a greedy search\n",
    "Strong_CPU = False\n",
    "\n",
    "if Tune_param :\n",
    "    \n",
    "    my_model =  XGBClassifier()\n",
    "\n",
    "    if Strong_CPU :\n",
    "        param_grid = {\n",
    "                    'max_depth':[8, 9, 10, 11],\n",
    "                    'min_child_weight':np.arange(2,4),\n",
    "                    'gamma':[i/10.0 for i in range(0,4)],\n",
    "                    }\n",
    "        best_accuracy, Best_param = tune_parameters(my_model, param_grid, X_train, Y_train, seed) \n",
    "\n",
    "\n",
    "    if not Strong_CPU :\n",
    "            # Check the best param for 'max_depth' :\n",
    "            best_score, greedy_param = tune_parameters(my_model, {'max_depth':[8, 9, 10, 11]}, X_train, Y_train, seed, print_=False) \n",
    "            greedy_param = transform_values_into_list(greedy_param)\n",
    "            print('We get the best score with max_depth :', greedy_param, 'the accuracy is :', best_score)\n",
    "\n",
    "            # Check the best param for 'min_child_weight' :\n",
    "            greedy_param.update({'min_child_weight':np.arange(2,4)})\n",
    "            best_score, greedy_param = tune_parameters(my_model, greedy_param, X_train, Y_train, seed, print_=False) \n",
    "            greedy_param = transform_values_into_list(greedy_param)\n",
    "            print('We get the best score with max_depth :', greedy_param, 'the accuracy is :', best_score)\n",
    "\n",
    "            # Check the best param for 'gamma' :\n",
    "            greedy_param.update({'gamma':[i/10.0 for i in range(0,4)]})\n",
    "            best_score, greedy_param = tune_parameters(my_model, greedy_param, X_train, Y_train, seed, print_=False) \n",
    "            greedy_param = transform_values_into_list(greedy_param)\n",
    "            print('We get the best score with max_depth :', greedy_param, 'the accuracy is :', best_score)\n",
    "        \n",
    "            Best_param = greedy_param"
   ]
  },
  {
   "cell_type": "markdown",
   "metadata": {},
   "source": [
    "## Get the Finale model :"
   ]
  },
  {
   "cell_type": "code",
   "execution_count": 27,
   "metadata": {
    "collapsed": true
   },
   "outputs": [],
   "source": [
    "Best_param = {'gamma': 0.0, 'max_depth': 10, 'min_child_weight': 2}\n",
    "Optimized_Model = Pipeline([('Scaler', StandardScaler()),('XGB', XGBClassifier(gamma=0.0, max_depth=10, min_child_weight=2))])"
   ]
  },
  {
   "cell_type": "markdown",
   "metadata": {},
   "source": [
    "Train the model on the complete dataset :"
   ]
  },
  {
   "cell_type": "code",
   "execution_count": 28,
   "metadata": {
    "collapsed": false
   },
   "outputs": [
    {
     "data": {
      "text/plain": [
       "Pipeline(steps=[('Scaler', StandardScaler(copy=True, with_mean=True, with_std=True)), ('XGB', XGBClassifier(base_score=0.5, colsample_bylevel=1, colsample_bytree=1,\n",
       "       gamma=0.0, learning_rate=0.1, max_delta_step=0, max_depth=10,\n",
       "       min_child_weight=2, missing=None, n_estimators=100, nthread=-1,\n",
       "       objective='binary:logistic', reg_alpha=0, reg_lambda=1,\n",
       "       scale_pos_weight=1, seed=0, silent=True, subsample=1))])"
      ]
     },
     "execution_count": 28,
     "metadata": {},
     "output_type": "execute_result"
    }
   ],
   "source": [
    "Optimized_Model.fit(X_train, Y_train)"
   ]
  },
  {
   "cell_type": "markdown",
   "metadata": {},
   "source": [
    "Results on the validation set :"
   ]
  },
  {
   "cell_type": "code",
   "execution_count": 30,
   "metadata": {
    "collapsed": false
   },
   "outputs": [
    {
     "name": "stdout",
     "output_type": "stream",
     "text": [
      "the accuracy is :  0.765255905512\n",
      "the roc-auc score is : 0.714942149113\n"
     ]
    }
   ],
   "source": [
    "pred = Optimized_Model.predict(X_validation)\n",
    "\n",
    "print('the accuracy is : ', metrics.accuracy_score(Y_validation, pred, normalize=True, sample_weight=None))\n",
    "print('the roc-auc score is :', metrics.roc_auc_score(Y_validation, pred))"
   ]
  },
  {
   "cell_type": "markdown",
   "metadata": {},
   "source": [
    "Train the model on the entire dataset :"
   ]
  },
  {
   "cell_type": "code",
   "execution_count": 31,
   "metadata": {
    "collapsed": false
   },
   "outputs": [
    {
     "data": {
      "text/plain": [
       "Pipeline(steps=[('Scaler', StandardScaler(copy=True, with_mean=True, with_std=True)), ('XGB', XGBClassifier(base_score=0.5, colsample_bylevel=1, colsample_bytree=1,\n",
       "       gamma=0.0, learning_rate=0.1, max_delta_step=0, max_depth=10,\n",
       "       min_child_weight=2, missing=None, n_estimators=100, nthread=-1,\n",
       "       objective='binary:logistic', reg_alpha=0, reg_lambda=1,\n",
       "       scale_pos_weight=1, seed=0, silent=True, subsample=1))])"
      ]
     },
     "execution_count": 31,
     "metadata": {},
     "output_type": "execute_result"
    }
   ],
   "source": [
    "Optimized_Model.fit(Train_Input.iloc[:,1:], Train_Outputs.iloc[:,1])"
   ]
  },
  {
   "cell_type": "code",
   "execution_count": null,
   "metadata": {
    "collapsed": true
   },
   "outputs": [],
   "source": [
    "# save the model to disk\n",
    "filename = 'finalized_model_PredictionOfCrudeOilTrend.sav'\n",
    "dump(Optimized_Model, open(filename, 'wb'))"
   ]
  }
 ],
 "metadata": {
  "kernelspec": {
   "display_name": "Python 3",
   "language": "python",
   "name": "python3"
  },
  "language_info": {
   "codemirror_mode": {
    "name": "ipython",
    "version": 3
   },
   "file_extension": ".py",
   "mimetype": "text/x-python",
   "name": "python",
   "nbconvert_exporter": "python",
   "pygments_lexer": "ipython3",
   "version": "3.6.0"
  }
 },
 "nbformat": 4,
 "nbformat_minor": 2
}
